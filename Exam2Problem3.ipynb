{
  "nbformat": 4,
  "nbformat_minor": 0,
  "metadata": {
    "colab": {
      "provenance": [],
      "authorship_tag": "ABX9TyPO8EZC8SRdVRZBuTWd3q/Q",
      "include_colab_link": true
    },
    "kernelspec": {
      "name": "python3",
      "display_name": "Python 3"
    },
    "language_info": {
      "name": "python"
    }
  },
  "cells": [
    {
      "cell_type": "markdown",
      "metadata": {
        "id": "view-in-github",
        "colab_type": "text"
      },
      "source": [
        "<a href=\"https://colab.research.google.com/github/mpatel5/StatisticsForComputing/blob/main/Exam2Problem3.ipynb\" target=\"_parent\"><img src=\"https://colab.research.google.com/assets/colab-badge.svg\" alt=\"Open In Colab\"/></a>"
      ]
    },
    {
      "cell_type": "code",
      "execution_count": 3,
      "metadata": {
        "id": "Z5_VY5lvSWn3"
      },
      "outputs": [],
      "source": [
        "import scipy.stats as st\n",
        "import numpy as np"
      ]
    },
    {
      "cell_type": "code",
      "source": [
        "#Null Hypothesis\n",
        "print(\"Null Hypothesis: µ = 20\")\n",
        "#Alternative\n",
        "print(\"Alternative Hypthesis: µ ≠ 20\")"
      ],
      "metadata": {
        "colab": {
          "base_uri": "https://localhost:8080/"
        },
        "id": "YD-pi0pfYEkS",
        "outputId": "22f4bf9f-f934-42ac-dcad-74f4b11b08f8"
      },
      "execution_count": 4,
      "outputs": [
        {
          "output_type": "stream",
          "name": "stdout",
          "text": [
            "Null Hypothesis: µ = 20\n",
            "Alternative Hypthesis: µ ≠ 20\n"
          ]
        }
      ]
    },
    {
      "cell_type": "code",
      "source": [
        "#Type of Test\n",
        "print(\"This is a two-tailed test\")"
      ],
      "metadata": {
        "colab": {
          "base_uri": "https://localhost:8080/"
        },
        "id": "cn9Meh45ZFiN",
        "outputId": "209060c6-39c1-4909-b32e-bb0144003dde"
      },
      "execution_count": 5,
      "outputs": [
        {
          "output_type": "stream",
          "name": "stdout",
          "text": [
            "This is a two-tailed test\n"
          ]
        }
      ]
    },
    {
      "cell_type": "code",
      "source": [
        "protein = [22.41, 12.47, 18.55, 17.52, 19.84,\n",
        "18.75, 20.43, 20.08, 15.09, 21.69,\n",
        "19.06, 13.74, 19.77, 21.28, 19.28,\n",
        "15.04, 17.29, 15.50, 12.80, 18.51]"
      ],
      "metadata": {
        "id": "muvFccXqXP7h"
      },
      "execution_count": 6,
      "outputs": []
    },
    {
      "cell_type": "code",
      "source": [
        "mean_protein = np.mean(protein)\n",
        "print(\"Mean =\",mean_protein)"
      ],
      "metadata": {
        "colab": {
          "base_uri": "https://localhost:8080/"
        },
        "id": "xYHWzSpdYD6U",
        "outputId": "81743660-ba52-4bad-83aa-b32de77751f1"
      },
      "execution_count": 7,
      "outputs": [
        {
          "output_type": "stream",
          "name": "stdout",
          "text": [
            "Mean = 17.955000000000002\n"
          ]
        }
      ]
    },
    {
      "cell_type": "code",
      "source": [
        "#Calculate sample deviation\n",
        "proteindev = np.std(protein, ddof=1)\n",
        "print(\"Sample deviation =\", proteindev)"
      ],
      "metadata": {
        "id": "_QyV-Xq3XfOp",
        "colab": {
          "base_uri": "https://localhost:8080/"
        },
        "outputId": "fd2b1264-e1bf-4a89-ed5d-3b08f4ece2bf"
      },
      "execution_count": 8,
      "outputs": [
        {
          "output_type": "stream",
          "name": "stdout",
          "text": [
            "Sample deviation = 2.9415507904218785\n"
          ]
        }
      ]
    },
    {
      "cell_type": "code",
      "source": [
        "#Calculate Standard Error\n",
        "sem_value = st.sem(protein)\n",
        "print(\"Standard error =\", sem_value)"
      ],
      "metadata": {
        "colab": {
          "base_uri": "https://localhost:8080/"
        },
        "id": "_0Lq5PtUZ0BO",
        "outputId": "fb72e130-de24-4627-9908-88b07ff6c61f"
      },
      "execution_count": 9,
      "outputs": [
        {
          "output_type": "stream",
          "name": "stdout",
          "text": [
            "Standard error = 0.6577507526651557\n"
          ]
        }
      ]
    },
    {
      "cell_type": "code",
      "source": [
        "# Confidence level\n",
        "alpha = 0.05"
      ],
      "metadata": {
        "id": "ckXmj52ZZ2uv"
      },
      "execution_count": 10,
      "outputs": []
    },
    {
      "cell_type": "code",
      "source": [
        "#create 95% confidence interval for population mean weight\n",
        "confidence_level = 1 - alpha\n",
        "df= degrees_of_freedom = len(protein) - 1\n",
        "sample_mean = np.mean(protein)\n",
        "standard_error = st.sem(protein)\n",
        "\n",
        "\n",
        "confidence_interval = st.t.interval(confidence_level, degrees_of_freedom, loc=sample_mean, scale=standard_error)\n",
        "print(\"95% Confidence Interval:\",confidence_interval[0], \"and\", confidence_interval[1])\n",
        "\n"
      ],
      "metadata": {
        "colab": {
          "base_uri": "https://localhost:8080/"
        },
        "id": "0D2w-EQ2Z8LH",
        "outputId": "a9710845-14ff-49df-9255-d982f88ff610"
      },
      "execution_count": 11,
      "outputs": [
        {
          "output_type": "stream",
          "name": "stdout",
          "text": [
            "95% Confidence Interval: 16.57831185286669 and 19.331688147133313\n"
          ]
        }
      ]
    },
    {
      "cell_type": "code",
      "source": [
        "print(\"Degrees of Freedom: \", df)"
      ],
      "metadata": {
        "colab": {
          "base_uri": "https://localhost:8080/"
        },
        "id": "TkgC1tPDagfB",
        "outputId": "eb7dc3a9-d336-43fe-d86e-1fdef2078671"
      },
      "execution_count": 12,
      "outputs": [
        {
          "output_type": "stream",
          "name": "stdout",
          "text": [
            "Degrees of Freedom:  19\n"
          ]
        }
      ]
    },
    {
      "cell_type": "code",
      "source": [
        "# Calculate t-statistic\n",
        "# a -> sample data\n",
        "# popmean -> population mean value to be tested\n",
        "# alternative -> region that determines the alternative hypothesis\n",
        "# -> \"greater\" - H_{0} : \\mu <= mu_{0}, H_{a} : \\mu > mu_{0}\n",
        "# -> \"two-sided\" - H_{0} : \\mu = mu_{0}, H_{a} : \\mu != mu_{0}\n",
        "# -> \"less\" - H_{0} : \\mu >= mu_{0}, H_{a} : \\mu < mu_{0}\n",
        "t_test = st.ttest_1samp(a = protein, popmean=20, alternative = \"two-sided\")"
      ],
      "metadata": {
        "id": "BmEbfpOLedhF"
      },
      "execution_count": 13,
      "outputs": []
    },
    {
      "cell_type": "code",
      "source": [
        "# Find t critical value\n",
        "t_crit_lower = st.t.ppf(alpha / 2, df)\n",
        "\n",
        "t_crit_upper = st.t.ppf(1 - (alpha / 2), df)"
      ],
      "metadata": {
        "id": "q6f-w2pufYSn"
      },
      "execution_count": 14,
      "outputs": []
    },
    {
      "cell_type": "code",
      "source": [
        "# Show results to user\n",
        "print(\"Value of t-statistic = {}\\np-value = {}\\n\".format(t_test[0], t_test[1]))\n",
        "\n",
        "print(\"Lower and upper critical values at {}% confidence = {} and {}\".format(1 - alpha, t_crit_lower, t_crit_upper))"
      ],
      "metadata": {
        "colab": {
          "base_uri": "https://localhost:8080/"
        },
        "id": "3aRpTaaMfdXW",
        "outputId": "9b0930b3-1fe1-4222-ecbb-7811d8b89712"
      },
      "execution_count": 15,
      "outputs": [
        {
          "output_type": "stream",
          "name": "stdout",
          "text": [
            "Value of t-statistic = -3.109080440750261\n",
            "p-value = 0.005776973246486424\n",
            "\n",
            "Lower and upper critical values at 0.95% confidence = -2.0930240544082634 and 2.093024054408263\n"
          ]
        }
      ]
    },
    {
      "cell_type": "code",
      "source": [
        "# Conclusion with explanation\n",
        "if t_test.pvalue < alpha:\n",
        "    print(f\"Conclusion: Reject the null hypothesis because the p-value ({t_test.pvalue:.5f}) is less than the significance level (α = {alpha}).\")\n",
        "    print(\"There is significant evidence that the true mean protein content is different from 20g.\")\n",
        "else:\n",
        "    print(f\"Conclusion: Fail to reject the null hypothesis because the p-value ({t_test.pvalue:.5f}) is greater than the significance level (α = {alpha}).\")\n",
        "    print(\"There is not enough evidence to say the true mean protein content differs from 20g.\")"
      ],
      "metadata": {
        "colab": {
          "base_uri": "https://localhost:8080/"
        },
        "id": "T6MgkbJ_kA9H",
        "outputId": "37646c80-9d3c-4cfe-ef62-cda7654a3536"
      },
      "execution_count": 16,
      "outputs": [
        {
          "output_type": "stream",
          "name": "stdout",
          "text": [
            "Conclusion: Reject the null hypothesis because the p-value (0.00578) is less than the significance level (α = 0.05).\n",
            "There is significant evidence that the true mean protein content is different from 20g.\n"
          ]
        }
      ]
    }
  ]
}