{
  "nbformat": 4,
  "nbformat_minor": 0,
  "metadata": {
    "colab": {
      "provenance": [],
      "authorship_tag": "ABX9TyNY2yXfSV3A9fTeflDZ6DpE",
      "include_colab_link": true
    },
    "kernelspec": {
      "name": "python3",
      "display_name": "Python 3"
    },
    "language_info": {
      "name": "python"
    }
  },
  "cells": [
    {
      "cell_type": "markdown",
      "metadata": {
        "id": "view-in-github",
        "colab_type": "text"
      },
      "source": [
        "<a href=\"https://colab.research.google.com/github/mpatel5/StatisticsForComputing/blob/main/Exam2Problem2.ipynb\" target=\"_parent\"><img src=\"https://colab.research.google.com/assets/colab-badge.svg\" alt=\"Open In Colab\"/></a>"
      ]
    },
    {
      "cell_type": "code",
      "source": [
        "import scipy.stats as st\n",
        "import numpy as np"
      ],
      "metadata": {
        "id": "RWuA9Ae8-AUv"
      },
      "execution_count": 2,
      "outputs": []
    },
    {
      "cell_type": "code",
      "source": [
        "# Confidence level\n",
        "alpha = 0.05"
      ],
      "metadata": {
        "id": "47Sta4z7-EmW"
      },
      "execution_count": 3,
      "outputs": []
    },
    {
      "cell_type": "code",
      "source": [
        "#Null Hypothesis\n",
        "print(\"Null Hypothesis: Angles- µ <= 90\")\n",
        "\n",
        "#Alternative Hypothesis\n",
        "print(\"Alternative Hypothesis: Angles- µ > 90\")"
      ],
      "metadata": {
        "id": "-doVPAcRVLec",
        "colab": {
          "base_uri": "https://localhost:8080/"
        },
        "outputId": "0ff17402-521e-44bb-8fb1-5d989c3f201e"
      },
      "execution_count": 4,
      "outputs": [
        {
          "output_type": "stream",
          "name": "stdout",
          "text": [
            "Null Hypothesis: Angles- µ <= 90\n",
            "Alternative Hypothesis: Angles- µ > 90\n"
          ]
        }
      ]
    },
    {
      "cell_type": "code",
      "source": [
        "#Type of Test (One-Tail/Two Tail)\n",
        "print(\"One-Tail Test\")"
      ],
      "metadata": {
        "colab": {
          "base_uri": "https://localhost:8080/"
        },
        "id": "IUeHFYBMWcrI",
        "outputId": "97160717-116f-4363-b44c-0416fcfb3167"
      },
      "execution_count": 5,
      "outputs": [
        {
          "output_type": "stream",
          "name": "stdout",
          "text": [
            "One-Tail Test\n"
          ]
        }
      ]
    },
    {
      "cell_type": "code",
      "source": [
        "# Store data in list\n",
        "angles = [23.71, 85.97, 69.39, 91.66, 98.03, 100.6, 115.38,\n",
        "                    96.13, 92.13, 116.6, 109.63, 92.08, 94.88, 109.19,\n",
        "                    103.9, 91.16, 67.74, 107.14, 69.65, 95.53, 74.81,\n",
        "                    70.58, 94.46, 103.53, 109.78, 77.22, 88.4, 107.23,\n",
        "                    146.62, 76.37, 118.83, 72.96, 76.1, 110.12, 97.3,\n",
        "                    98.14, 89.12, 110.21, 56.91, 95.92, 116.89, 68.86,\n",
        "                    107.65, 77.2, 81.99, 83.13, 70.25, 90.54, 120.05]"
      ],
      "metadata": {
        "id": "j06hGlOrAiLF"
      },
      "execution_count": 6,
      "outputs": []
    },
    {
      "cell_type": "code",
      "source": [
        "#Calculate sample mean\n",
        "anglesmean = np.mean(angles)\n",
        "print(\"Sample mean =\", anglesmean)\n"
      ],
      "metadata": {
        "colab": {
          "base_uri": "https://localhost:8080/"
        },
        "id": "B_dRrGbBEpmn",
        "outputId": "e9efed31-85d4-457a-e669-801355604fde"
      },
      "execution_count": 7,
      "outputs": [
        {
          "output_type": "stream",
          "name": "stdout",
          "text": [
            "Sample mean = 92.27897959183673\n"
          ]
        }
      ]
    },
    {
      "cell_type": "code",
      "source": [
        "#Calculate sample deviation\n",
        "anglesdev = np.std(angles, ddof=1)\n",
        "print(\"Sample deviation =\", anglesdev)"
      ],
      "metadata": {
        "colab": {
          "base_uri": "https://localhost:8080/"
        },
        "id": "bVpZAhuZIaCY",
        "outputId": "f81237bd-0d80-4277-ff01-9a3e8ba5a313"
      },
      "execution_count": 8,
      "outputs": [
        {
          "output_type": "stream",
          "name": "stdout",
          "text": [
            "Sample deviation = 20.33540603283859\n"
          ]
        }
      ]
    },
    {
      "cell_type": "code",
      "source": [
        "#Calculate Standard Error\n",
        "sem_value = st.sem(angles)\n",
        "print(\"Standard Error =\", sem_value)"
      ],
      "metadata": {
        "colab": {
          "base_uri": "https://localhost:8080/"
        },
        "id": "ntIqDBQcKBJT",
        "outputId": "ecd25941-5421-47a7-f897-e2404d1c79b1"
      },
      "execution_count": 9,
      "outputs": [
        {
          "output_type": "stream",
          "name": "stdout",
          "text": [
            "Standard Error = 2.9050580046912273\n"
          ]
        }
      ]
    },
    {
      "cell_type": "code",
      "source": [
        "#create 95% confidence interval for population mean weight\n",
        "confidence_level = 1 - alpha\n",
        "df = degrees_of_freedom = len(angles) - 1\n",
        "sample_mean = np.mean(angles)\n",
        "standard_error = st.sem(angles)\n",
        "\n",
        "\n",
        "confidence_interval = st.t.interval(confidence_level, degrees_of_freedom, loc=sample_mean, scale=standard_error)\n",
        "print(\"95% Confidence Interval:\",confidence_interval[0], \"and\", confidence_interval[1])\n",
        "\n"
      ],
      "metadata": {
        "colab": {
          "base_uri": "https://localhost:8080/"
        },
        "id": "ZSCmLLOMNENb",
        "outputId": "22dc05ee-f360-437c-ae47-369ba68747b6"
      },
      "execution_count": 10,
      "outputs": [
        {
          "output_type": "stream",
          "name": "stdout",
          "text": [
            "95% Confidence Interval: 86.43796899469005 and 98.11999018898341\n"
          ]
        }
      ]
    },
    {
      "cell_type": "code",
      "source": [
        "# Print degrees of freedom\n",
        "print(\"Degrees of Freedom: \", df)"
      ],
      "metadata": {
        "colab": {
          "base_uri": "https://localhost:8080/"
        },
        "id": "hsqIipBxllEh",
        "outputId": "6edcda96-c27e-49f7-bc55-1272a6b17c9c"
      },
      "execution_count": 11,
      "outputs": [
        {
          "output_type": "stream",
          "name": "stdout",
          "text": [
            "Degrees of Freedom:  48\n"
          ]
        }
      ]
    },
    {
      "cell_type": "code",
      "source": [
        "# Calculate t-statistic\n",
        "# a -> sample data\n",
        "# popmean -> population mean value to be tested\n",
        "# alternative -> region that determines the alternative hypothesis\n",
        "# -> \"greater\" - H_{0} : \\mu <= mu_{0}, H_{a} : \\mu > mu_{0}\n",
        "# -> \"two-sided\" - H_{0} : \\mu = mu_{0}, H_{a} : \\mu != mu_{0}\n",
        "# -> \"less\" - H_{0} : \\mu >= mu_{0}, H_{a} : \\mu < mu_{0}\n",
        "t_test1 = st.ttest_1samp(a = angles, popmean=90, alternative = \"greater\")"
      ],
      "metadata": {
        "id": "RkW35zYPAlxd"
      },
      "execution_count": 12,
      "outputs": []
    },
    {
      "cell_type": "code",
      "source": [
        "# Find t critical value\n",
        "t_crit1 = st.t.ppf((1 - alpha), df)"
      ],
      "metadata": {
        "id": "2-G_5BxmBJZH"
      },
      "execution_count": 13,
      "outputs": []
    },
    {
      "cell_type": "code",
      "source": [
        "# Show results to user\n",
        "print(\"Value of t-statistic = {}\\np-value = {}\\n\".format(t_test1[0], t_test1[1]))\n",
        "print(\"Critical value at {}% confidence = {}\".format(1 - alpha, t_crit1))"
      ],
      "metadata": {
        "colab": {
          "base_uri": "https://localhost:8080/"
        },
        "id": "QVWPg89aBOzO",
        "outputId": "ceb508df-6dd8-49a5-f032-43fc08d2febb"
      },
      "execution_count": 14,
      "outputs": [
        {
          "output_type": "stream",
          "name": "stdout",
          "text": [
            "Value of t-statistic = 0.7844867772541976\n",
            "p-value = 0.21830457115528773\n",
            "\n",
            "Critical value at 0.95% confidence = 1.6772241961243388\n"
          ]
        }
      ]
    },
    {
      "cell_type": "code",
      "source": [
        "# Conclusion\n",
        "if t_test1.pvalue < alpha:\n",
        "    print(\"Conclusion: Reject the null hypothesis because the p-value is less than α.\")\n",
        "    print(\"There is significant evidence that tornadoes tend to move in a northeast direction.\")\n",
        "else:\n",
        "    print(\"Conclusion: Fail to reject the null hypothesis because the p-value is greater than α.\")\n",
        "    print(\"There is insufficient evidence to say tornadoes trend northeast.\")"
      ],
      "metadata": {
        "colab": {
          "base_uri": "https://localhost:8080/"
        },
        "id": "9RNqmGEnQ5AM",
        "outputId": "46a55b12-9f11-4a73-e1a5-e4fc5a0fbc8f"
      },
      "execution_count": 15,
      "outputs": [
        {
          "output_type": "stream",
          "name": "stdout",
          "text": [
            "Conclusion: Fail to reject the null hypothesis because the p-value is greater than α.\n",
            "There is insufficient evidence to say tornadoes trend northeast.\n"
          ]
        }
      ]
    }
  ]
}