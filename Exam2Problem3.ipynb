{
  "nbformat": 4,
  "nbformat_minor": 0,
  "metadata": {
    "colab": {
      "provenance": [],
      "authorship_tag": "ABX9TyN28Rth6Vp0jeoTpW9aoS5i",
      "include_colab_link": true
    },
    "kernelspec": {
      "name": "python3",
      "display_name": "Python 3"
    },
    "language_info": {
      "name": "python"
    }
  },
  "cells": [
    {
      "cell_type": "markdown",
      "metadata": {
        "id": "view-in-github",
        "colab_type": "text"
      },
      "source": [
        "<a href=\"https://colab.research.google.com/github/mpatel5/StatisticsForComputing/blob/main/Exam2Problem3.ipynb\" target=\"_parent\"><img src=\"https://colab.research.google.com/assets/colab-badge.svg\" alt=\"Open In Colab\"/></a>"
      ]
    },
    {
      "cell_type": "code",
      "execution_count": null,
      "metadata": {
        "id": "Z5_VY5lvSWn3"
      },
      "outputs": [],
      "source": [
        "import scipy.stats as st\n",
        "import numpy as np"
      ]
    },
    {
      "cell_type": "code",
      "source": [
        "#Null Hypothesis\n",
        "print(\"Null Hypothesis: µ = 20\")\n",
        "#Alternative\n",
        "print(\"Alternative Hypthesis: µ ≠ 20\")"
      ],
      "metadata": {
        "colab": {
          "base_uri": "https://localhost:8080/"
        },
        "id": "YD-pi0pfYEkS",
        "outputId": "1c2fc1a3-e8a2-46fa-c1cf-460748fae9fe"
      },
      "execution_count": null,
      "outputs": [
        {
          "output_type": "stream",
          "name": "stdout",
          "text": [
            "Null Hypothesis: µ = 20\n",
            "Alternative Hypthesis: µ ≠ 20\n"
          ]
        }
      ]
    },
    {
      "cell_type": "code",
      "source": [
        "#Type of Test\n",
        "print(\"This is a two-tailed test\")"
      ],
      "metadata": {
        "colab": {
          "base_uri": "https://localhost:8080/"
        },
        "id": "cn9Meh45ZFiN",
        "outputId": "d375d482-5ebb-4d24-d63f-66c307a61311"
      },
      "execution_count": null,
      "outputs": [
        {
          "output_type": "stream",
          "name": "stdout",
          "text": [
            "This is a two-tailed test\n"
          ]
        }
      ]
    },
    {
      "cell_type": "code",
      "source": [
        "protein = [22.41, 12.47, 18.55, 17.52, 19.84,\n",
        "18.75, 20.43, 20.08, 15.09, 21.69,\n",
        "19.06, 13.74, 19.77, 21.28, 19.28,\n",
        "15.04, 17.29, 15.50, 12.80, 18.51]"
      ],
      "metadata": {
        "id": "muvFccXqXP7h"
      },
      "execution_count": null,
      "outputs": []
    },
    {
      "cell_type": "code",
      "source": [
        "mean_protein = np.mean(protein)\n",
        "print(mean_protein)"
      ],
      "metadata": {
        "colab": {
          "base_uri": "https://localhost:8080/"
        },
        "id": "xYHWzSpdYD6U",
        "outputId": "4cd17832-73bc-4a2d-fea4-4159c9a6a8c8"
      },
      "execution_count": null,
      "outputs": [
        {
          "output_type": "stream",
          "name": "stdout",
          "text": [
            "17.955000000000002\n"
          ]
        }
      ]
    },
    {
      "cell_type": "code",
      "source": [
        "#Calculate sample deviation\n",
        "proteindev = np.std(protein, ddof=1)\n",
        "print(proteindev)"
      ],
      "metadata": {
        "id": "_QyV-Xq3XfOp",
        "colab": {
          "base_uri": "https://localhost:8080/"
        },
        "outputId": "4b819969-9141-4a20-83b0-2571824f5786"
      },
      "execution_count": null,
      "outputs": [
        {
          "output_type": "stream",
          "name": "stdout",
          "text": [
            "2.9415507904218785\n"
          ]
        }
      ]
    },
    {
      "cell_type": "code",
      "source": [
        "#Calculate Standard Error\n",
        "sem_value = st.sem(protein)\n",
        "print(sem_value)"
      ],
      "metadata": {
        "colab": {
          "base_uri": "https://localhost:8080/"
        },
        "id": "_0Lq5PtUZ0BO",
        "outputId": "9fd02a7e-fa6a-4aac-a848-f6013e7e8b85"
      },
      "execution_count": null,
      "outputs": [
        {
          "output_type": "stream",
          "name": "stdout",
          "text": [
            "0.6577507526651557\n"
          ]
        }
      ]
    },
    {
      "cell_type": "code",
      "source": [
        "# Confidence level\n",
        "alpha = 0.05"
      ],
      "metadata": {
        "id": "ckXmj52ZZ2uv"
      },
      "execution_count": null,
      "outputs": []
    },
    {
      "cell_type": "code",
      "source": [
        "#create 95% confidence interval for population mean weight\n",
        "confidence_level = 1 - alpha\n",
        "df= degrees_of_freedom = len(protein) - 1\n",
        "sample_mean = np.mean(protein)\n",
        "standard_error = st.sem(protein)\n",
        "\n",
        "\n",
        "confidence_interval = st.t.interval(confidence_level, degrees_of_freedom, loc=sample_mean, scale=standard_error)\n",
        "print(\"95% Confidence Interval:\\n\",confidence_interval[0], \",\", confidence_interval[1])\n",
        "\n"
      ],
      "metadata": {
        "colab": {
          "base_uri": "https://localhost:8080/"
        },
        "id": "0D2w-EQ2Z8LH",
        "outputId": "8984bf9e-47d7-45b0-9c75-957cf0fcbe59"
      },
      "execution_count": null,
      "outputs": [
        {
          "output_type": "stream",
          "name": "stdout",
          "text": [
            "95% Confidence Interval:\n",
            " 16.57831185286669 , 19.331688147133313\n"
          ]
        }
      ]
    },
    {
      "cell_type": "code",
      "source": [
        "print(\"Degrees of Freedom: \", df)"
      ],
      "metadata": {
        "colab": {
          "base_uri": "https://localhost:8080/"
        },
        "id": "TkgC1tPDagfB",
        "outputId": "50df36a7-7ac0-4635-8e39-e86cfde50764"
      },
      "execution_count": null,
      "outputs": [
        {
          "output_type": "stream",
          "name": "stdout",
          "text": [
            "Degrees of Freedom:  19\n"
          ]
        }
      ]
    },
    {
      "cell_type": "code",
      "source": [
        "# Calculate t-statistic\n",
        "# a -> sample data\n",
        "# popmean -> population mean value to be tested\n",
        "# alternative -> region that determines the alternative hypothesis\n",
        "# -> \"greater\" - H_{0} : \\mu <= mu_{0}, H_{a} : \\mu > mu_{0}\n",
        "# -> \"two-sided\" - H_{0} : \\mu = mu_{0}, H_{a} : \\mu != mu_{0}\n",
        "# -> \"less\" - H_{0} : \\mu >= mu_{0}, H_{a} : \\mu < mu_{0}\n",
        "t_test = st.ttest_1samp(a = protein, popmean=20, alternative = \"two-sided\")"
      ],
      "metadata": {
        "id": "BmEbfpOLedhF"
      },
      "execution_count": null,
      "outputs": []
    },
    {
      "cell_type": "code",
      "source": [
        "# Find t critical value\n",
        "t_crit_lower = st.t.ppf(alpha / 2, df)\n",
        "\n",
        "t_crit_upper = st.t.ppf(1 - (alpha / 2), df)"
      ],
      "metadata": {
        "id": "q6f-w2pufYSn"
      },
      "execution_count": null,
      "outputs": []
    },
    {
      "cell_type": "code",
      "source": [
        "# Show results to user\n",
        "print(\"Value of t-statistic = {}\\np-value = {}\\n\".format(t_test[0], t_test[1]))\n",
        "\n",
        "print(\"Lower and upper critical values at {}% confidence = {} and {}\".format(1 - alpha, t_crit_lower, t_crit_upper))"
      ],
      "metadata": {
        "colab": {
          "base_uri": "https://localhost:8080/"
        },
        "id": "3aRpTaaMfdXW",
        "outputId": "a614951f-c440-470d-a96d-afded3af870b"
      },
      "execution_count": null,
      "outputs": [
        {
          "output_type": "stream",
          "name": "stdout",
          "text": [
            "Value of t-statistic = -3.109080440750261\n",
            "p-value = 0.005776973246486424\n",
            "\n",
            "Lower and upper critical values at 0.95% confidence = -2.0930240544082634 and 2.093024054408263\n"
          ]
        }
      ]
    },
    {
      "cell_type": "code",
      "source": [
        "# Conclusion with explanation\n",
        "if t_test.pvalue < alpha:\n",
        "    print(f\"Conclusion: Reject the null hypothesis because the p-value ({t_test.pvalue:.5f}) is less than the significance level (α = {alpha}).\")\n",
        "    print(\"There is significant evidence that the true mean protein content is different from 20g.\")\n",
        "else:\n",
        "    print(f\"Conclusion: Fail to reject the null hypothesis because the p-value ({t_test.pvalue:.5f}) is greater than the significance level (α = {alpha}).\")\n",
        "    print(\"There is not enough evidence to say the true mean protein content differs from 20g.\")"
      ],
      "metadata": {
        "colab": {
          "base_uri": "https://localhost:8080/"
        },
        "id": "T6MgkbJ_kA9H",
        "outputId": "506ed381-cc39-48a8-d434-04859671a327"
      },
      "execution_count": null,
      "outputs": [
        {
          "output_type": "stream",
          "name": "stdout",
          "text": [
            "Conclusion: Reject the null hypothesis because the p-value (0.00578) is less than the significance level (α = 0.05).\n",
            "There is significant evidence that the true mean protein content is different from 20g.\n"
          ]
        }
      ]
    }
  ]
}