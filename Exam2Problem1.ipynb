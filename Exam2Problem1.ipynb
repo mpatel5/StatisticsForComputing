{
  "nbformat": 4,
  "nbformat_minor": 0,
  "metadata": {
    "colab": {
      "provenance": [],
      "authorship_tag": "ABX9TyONrq68+qjkScC1TelsrypB",
      "include_colab_link": true
    },
    "kernelspec": {
      "name": "python3",
      "display_name": "Python 3"
    },
    "language_info": {
      "name": "python"
    }
  },
  "cells": [
    {
      "cell_type": "markdown",
      "metadata": {
        "id": "view-in-github",
        "colab_type": "text"
      },
      "source": [
        "<a href=\"https://colab.research.google.com/github/mpatel5/StatisticsForComputing/blob/main/Exam2Problem1.ipynb\" target=\"_parent\"><img src=\"https://colab.research.google.com/assets/colab-badge.svg\" alt=\"Open In Colab\"/></a>"
      ]
    },
    {
      "cell_type": "code",
      "execution_count": null,
      "metadata": {
        "id": "ehHIgGz7zBS8"
      },
      "outputs": [],
      "source": [
        "from scipy.stats import chi2, chisquare"
      ]
    },
    {
      "cell_type": "code",
      "source": [
        "# Confidence level\n",
        "alpha = 0.05"
      ],
      "metadata": {
        "id": "yrcchZ6E4N1P"
      },
      "execution_count": null,
      "outputs": []
    },
    {
      "cell_type": "code",
      "source": [
        "# Observed frequencies from die rolls\n",
        "observed = [56, 52, 47, 49, 42, 54]"
      ],
      "metadata": {
        "id": "Orj-efMKnsAs"
      },
      "execution_count": null,
      "outputs": []
    },
    {
      "cell_type": "code",
      "source": [
        "# Expected frequency for each side of a fair 6-sided die\n",
        "expected = [50, 50, 50, 50, 50, 50]\n",
        "expectedFreq = sum(expected) / 6\n",
        "print(\"Expected frequency per side:\", expectedFreq)"
      ],
      "metadata": {
        "colab": {
          "base_uri": "https://localhost:8080/"
        },
        "id": "zFbWRUBknt98",
        "outputId": "013d3647-e4d8-41c9-fe14-5077fe38d072"
      },
      "execution_count": null,
      "outputs": [
        {
          "output_type": "stream",
          "name": "stdout",
          "text": [
            "Expected frequency per side: 50.0\n"
          ]
        }
      ]
    },
    {
      "cell_type": "code",
      "source": [
        "# Degrees of freedom (n - 1)\n",
        "df = len(observed) - 1\n",
        "print(\"Degrees of Freedom:\", df)"
      ],
      "metadata": {
        "colab": {
          "base_uri": "https://localhost:8080/"
        },
        "id": "kBuol9a8nzQc",
        "outputId": "1e9c1651-12fb-4597-983a-1985502cefce"
      },
      "execution_count": null,
      "outputs": [
        {
          "output_type": "stream",
          "name": "stdout",
          "text": [
            "Degrees of Freedom: 5\n"
          ]
        }
      ]
    },
    {
      "cell_type": "code",
      "source": [
        "# Chi-Squared Test\n",
        "chiSqTest = chisquare(f_obs=observed, f_exp=expected)\n",
        "chiSqStat = chiSqTest.statistic\n",
        "p_value = chiSqTest.pvalue"
      ],
      "metadata": {
        "id": "WAGBvAKwn2GM"
      },
      "execution_count": null,
      "outputs": []
    },
    {
      "cell_type": "code",
      "source": [
        "# Critical value\n",
        "chi_crit = chi2.ppf(q=1 - alpha, df=df)"
      ],
      "metadata": {
        "id": "GWi_KRdOn4RU"
      },
      "execution_count": null,
      "outputs": []
    },
    {
      "cell_type": "code",
      "source": [
        "# Results\n",
        "print(\"Test Statistic =\", chiSqStat)\n",
        "print(\"p-value =\", p_value)\n",
        "print(\"Critical Value at α =\", alpha, \"→\", chi_crit)"
      ],
      "metadata": {
        "colab": {
          "base_uri": "https://localhost:8080/"
        },
        "id": "_HoCFKDen68V",
        "outputId": "e94c2675-d4b1-4677-ea69-739279525117"
      },
      "execution_count": null,
      "outputs": [
        {
          "output_type": "stream",
          "name": "stdout",
          "text": [
            "Test Statistic = 2.6\n",
            "p-value = 0.761365267845014\n",
            "Critical Value at α = 0.05 → 11.070497693516351\n"
          ]
        }
      ]
    },
    {
      "cell_type": "code",
      "source": [
        "# Reason\n",
        "if chiSqStat > chi_crit:\n",
        "    reason = \"because the test statistic exceeds the critical value.\"\n",
        "elif p_value < alpha:\n",
        "    reason = \"because the p-value is less than the significance level alpha.\"\n",
        "else:\n",
        "    reason = \"because the test statistic does not exceed the critical value and the p-value is greater than α.\""
      ],
      "metadata": {
        "id": "k4kPBZmZLt5P"
      },
      "execution_count": null,
      "outputs": []
    },
    {
      "cell_type": "code",
      "source": [
        "# Conclusion\n",
        "if chiSqStat > chi_crit or p_value < alpha:\n",
        "    print(\"Conclusion: Reject the null hypothesis,\", reason)\n",
        "    print(\"There is evidence that the die may not be fair.\")\n",
        "else:\n",
        "    print(\"Conclusion: Fail to reject the null hypothesis,\", reason)\n",
        "    print(\"There is not enough evidence to say the die is unfair — it appears fair.\")\n"
      ],
      "metadata": {
        "colab": {
          "base_uri": "https://localhost:8080/"
        },
        "id": "HLNviQrrn9NN",
        "outputId": "c2256be2-1ffd-4156-aaec-c3450ec25ee6"
      },
      "execution_count": null,
      "outputs": [
        {
          "output_type": "stream",
          "name": "stdout",
          "text": [
            "Conclusion: Fail to reject the null hypothesis, because the test statistic does not exceed the critical value and the p-value is greater than α.\n",
            "There is not enough evidence to say the die is unfair — it appears fair.\n"
          ]
        }
      ]
    }
  ]
}