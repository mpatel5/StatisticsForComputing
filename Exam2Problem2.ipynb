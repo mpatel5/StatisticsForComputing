{
  "nbformat": 4,
  "nbformat_minor": 0,
  "metadata": {
    "colab": {
      "provenance": [],
      "authorship_tag": "ABX9TyOO5qh1cE58nOG5dgXLajb4",
      "include_colab_link": true
    },
    "kernelspec": {
      "name": "python3",
      "display_name": "Python 3"
    },
    "language_info": {
      "name": "python"
    }
  },
  "cells": [
    {
      "cell_type": "markdown",
      "metadata": {
        "id": "view-in-github",
        "colab_type": "text"
      },
      "source": [
        "<a href=\"https://colab.research.google.com/github/mpatel5/StatisticsForComputing/blob/main/Exam2Problem2.ipynb\" target=\"_parent\"><img src=\"https://colab.research.google.com/assets/colab-badge.svg\" alt=\"Open In Colab\"/></a>"
      ]
    },
    {
      "cell_type": "code",
      "source": [
        "import scipy.stats as st\n",
        "import numpy as np"
      ],
      "metadata": {
        "id": "RWuA9Ae8-AUv"
      },
      "execution_count": null,
      "outputs": []
    },
    {
      "cell_type": "code",
      "source": [
        "# Confidence level\n",
        "alpha = 0.05"
      ],
      "metadata": {
        "id": "47Sta4z7-EmW"
      },
      "execution_count": null,
      "outputs": []
    },
    {
      "cell_type": "code",
      "source": [
        "#Null Hypothesis\n",
        "print(\"Null Hypothesis: Angles- µ <= 90\")\n",
        "\n",
        "#Alternative Hypothesis\n",
        "print(\"Alternative Hypothesis: Angles- µ > 90\")"
      ],
      "metadata": {
        "id": "-doVPAcRVLec",
        "colab": {
          "base_uri": "https://localhost:8080/"
        },
        "outputId": "8edbf405-260a-4673-9d0a-8c002a23f104"
      },
      "execution_count": null,
      "outputs": [
        {
          "output_type": "stream",
          "name": "stdout",
          "text": [
            "Null Hypothesis: Angles- µ <= 90\n",
            "Alternative Hypothesis: Angles- µ > 90\n"
          ]
        }
      ]
    },
    {
      "cell_type": "code",
      "source": [
        "#Type of Test (One-Tail/Two Tail)\n",
        "print(\"One-Tail Test\")"
      ],
      "metadata": {
        "colab": {
          "base_uri": "https://localhost:8080/"
        },
        "id": "IUeHFYBMWcrI",
        "outputId": "a35d291a-6555-4293-efc3-b70a8899c078"
      },
      "execution_count": null,
      "outputs": [
        {
          "output_type": "stream",
          "name": "stdout",
          "text": [
            "One-Tail Test\n"
          ]
        }
      ]
    },
    {
      "cell_type": "code",
      "source": [
        "# Store data in list\n",
        "angles = [23.71, 85.97, 69.39, 91.66, 98.03, 100.6, 115.38,\n",
        "                    96.13, 92.13, 116.6, 109.63, 92.08, 94.88, 109.19,\n",
        "                    103.9, 91.16, 67.74, 107.14, 69.65, 95.53, 74.81,\n",
        "                    70.58, 94.46, 103.53, 109.78, 77.22, 88.4, 107.23,\n",
        "                    146.62, 76.37, 118.83, 72.96, 76.1, 110.12, 97.3,\n",
        "                    98.14, 89.12, 110.21, 56.91, 95.92, 116.89, 68.86,\n",
        "                    107.65, 77.2, 81.99, 83.13, 70.25, 90.54, 120.05]"
      ],
      "metadata": {
        "id": "j06hGlOrAiLF"
      },
      "execution_count": null,
      "outputs": []
    },
    {
      "cell_type": "code",
      "source": [
        "#Calculate sample mean\n",
        "anglesmean = np.mean(angles)\n",
        "print(anglesmean)\n"
      ],
      "metadata": {
        "colab": {
          "base_uri": "https://localhost:8080/"
        },
        "id": "B_dRrGbBEpmn",
        "outputId": "3e558442-6523-4f9b-9ac2-6a73338b574a"
      },
      "execution_count": null,
      "outputs": [
        {
          "output_type": "stream",
          "name": "stdout",
          "text": [
            "92.27897959183673\n"
          ]
        }
      ]
    },
    {
      "cell_type": "code",
      "source": [
        "#Calculate sample deviation\n",
        "anglesdev = np.std(angles, ddof=1)\n",
        "print(anglesdev)"
      ],
      "metadata": {
        "colab": {
          "base_uri": "https://localhost:8080/"
        },
        "id": "bVpZAhuZIaCY",
        "outputId": "dc2a2f63-5329-4d68-edc6-1321d4859b9e"
      },
      "execution_count": null,
      "outputs": [
        {
          "output_type": "stream",
          "name": "stdout",
          "text": [
            "20.33540603283859\n"
          ]
        }
      ]
    },
    {
      "cell_type": "code",
      "source": [
        "#Calculate Standard Error\n",
        "sem_value = st.sem(angles)\n",
        "print(sem_value)"
      ],
      "metadata": {
        "colab": {
          "base_uri": "https://localhost:8080/"
        },
        "id": "ntIqDBQcKBJT",
        "outputId": "633084d4-7b66-4ddc-f1af-d5a690b0342b"
      },
      "execution_count": null,
      "outputs": [
        {
          "output_type": "stream",
          "name": "stdout",
          "text": [
            "2.9050580046912273\n"
          ]
        }
      ]
    },
    {
      "cell_type": "code",
      "source": [
        "#create 95% confidence interval for population mean weight\n",
        "confidence_level = 1 - alpha\n",
        "df = degrees_of_freedom = len(angles) - 1\n",
        "sample_mean = np.mean(angles)\n",
        "standard_error = st.sem(angles)\n",
        "\n",
        "\n",
        "confidence_interval = st.t.interval(confidence_level, degrees_of_freedom, loc=sample_mean, scale=standard_error)\n",
        "print(\"95% Confidence Interval:\\n\",confidence_interval[0], \",\", confidence_interval[1])\n",
        "\n"
      ],
      "metadata": {
        "colab": {
          "base_uri": "https://localhost:8080/"
        },
        "id": "ZSCmLLOMNENb",
        "outputId": "5102e861-3110-433c-f55f-981399adfef4"
      },
      "execution_count": null,
      "outputs": [
        {
          "output_type": "stream",
          "name": "stdout",
          "text": [
            "95% Confidence Interval:\n",
            " 86.43796899469005 , 98.11999018898341\n"
          ]
        }
      ]
    },
    {
      "cell_type": "code",
      "source": [
        "# Print degrees of freedom\n",
        "print(\"Degrees of Freedom: \", df)"
      ],
      "metadata": {
        "colab": {
          "base_uri": "https://localhost:8080/"
        },
        "id": "hsqIipBxllEh",
        "outputId": "efd7d002-6800-4300-e296-0e70bcd6d231"
      },
      "execution_count": null,
      "outputs": [
        {
          "output_type": "stream",
          "name": "stdout",
          "text": [
            "Degrees of Freedom:  48\n"
          ]
        }
      ]
    },
    {
      "cell_type": "code",
      "source": [
        "# Calculate t-statistic\n",
        "# a -> sample data\n",
        "# popmean -> population mean value to be tested\n",
        "# alternative -> region that determines the alternative hypothesis\n",
        "# -> \"greater\" - H_{0} : \\mu <= mu_{0}, H_{a} : \\mu > mu_{0}\n",
        "# -> \"two-sided\" - H_{0} : \\mu = mu_{0}, H_{a} : \\mu != mu_{0}\n",
        "# -> \"less\" - H_{0} : \\mu >= mu_{0}, H_{a} : \\mu < mu_{0}\n",
        "t_test1 = st.ttest_1samp(a = angles, popmean=90, alternative = \"greater\")"
      ],
      "metadata": {
        "id": "RkW35zYPAlxd"
      },
      "execution_count": null,
      "outputs": []
    },
    {
      "cell_type": "code",
      "source": [
        "# Find t critical value\n",
        "t_crit1 = st.t.ppf((1 - alpha), df)"
      ],
      "metadata": {
        "id": "2-G_5BxmBJZH"
      },
      "execution_count": null,
      "outputs": []
    },
    {
      "cell_type": "code",
      "source": [
        "# Show results to user\n",
        "print(\"Value of t-statistic = {}\\np-value = {}\\n\".format(t_test1[0], t_test1[1]))\n",
        "print(\"Critical value at {}% confidence = {}\".format(1 - alpha, t_crit1))"
      ],
      "metadata": {
        "colab": {
          "base_uri": "https://localhost:8080/"
        },
        "id": "QVWPg89aBOzO",
        "outputId": "ac6c9942-47ff-4875-9c89-b4c56f93f449"
      },
      "execution_count": null,
      "outputs": [
        {
          "output_type": "stream",
          "name": "stdout",
          "text": [
            "Value of t-statistic = 0.7844867772541976\n",
            "p-value = 0.21830457115528773\n",
            "\n",
            "Critical value at 0.95% confidence = 1.6772241961243388\n"
          ]
        }
      ]
    },
    {
      "cell_type": "code",
      "source": [
        "print(\"Fail to reject the null hypothesis - the evidence is insufficient to say tornados trend northeast\")"
      ],
      "metadata": {
        "colab": {
          "base_uri": "https://localhost:8080/"
        },
        "id": "9RNqmGEnQ5AM",
        "outputId": "c6e3765f-292f-42f2-944d-9a813feb6e5c"
      },
      "execution_count": null,
      "outputs": [
        {
          "output_type": "stream",
          "name": "stdout",
          "text": [
            "Fail to reject the null hypothesis - the evidence is insufficient to say tornados trend northeast\n"
          ]
        }
      ]
    }
  ]
}